{
 "cells": [
  {
   "cell_type": "markdown",
   "id": "d56a6100",
   "metadata": {},
   "source": [
    "# 3-Layer 인공신경망을 이용한 상변화 예측 실습\n",
    "이 노트북은 Ti-Al-V 조성 데이터를 이용하여 상변화(고상, 액상, 다상)를 예측하는 분류 모델을 PyTorch 기반 인공신경망으로 학습합니다."
   ]
  },
  {
   "cell_type": "code",
   "execution_count": null,
   "id": "42dc1fad",
   "metadata": {},
   "outputs": [],
   "source": [
    "# 기본 패키지 import\n",
    "import pandas as pd\n",
    "import numpy as np\n",
    "import torch\n",
    "import torch.nn as nn\n",
    "import torch.optim as optim\n",
    "from sklearn.model_selection import train_test_split\n",
    "from sklearn.preprocessing import LabelEncoder, StandardScaler\n",
    "from sklearn.metrics import classification_report\n",
    "import matplotlib.pyplot as plt"
   ]
  },
  {
   "cell_type": "code",
   "execution_count": null,
   "id": "401f3e3d",
   "metadata": {},
   "outputs": [],
   "source": [
    "# 데이터 로딩\n",
    "url = 'https://raw.githubusercontent.com/ginktepal/phase-prediction-ml/main/composition_phase_data.csv'\n",
    "df = pd.read_csv(url)\n",
    "df.head()"
   ]
  },
  {
   "cell_type": "code",
   "execution_count": null,
   "id": "5f4fcc90",
   "metadata": {},
   "outputs": [],
   "source": [
    "# 전처리\n",
    "X = df[['Ti', 'Al', 'V']].values\n",
    "y = df['Phase'].values\n",
    "\n",
    "# 라벨 인코딩\n",
    "le = LabelEncoder()\n",
    "y = le.fit_transform(y)\n",
    "\n",
    "# 스케일링\n",
    "scaler = StandardScaler()\n",
    "X_scaled = scaler.fit_transform(X)\n",
    "\n",
    "# 학습/검증 나누기\n",
    "X_train, X_test, y_train, y_test = train_test_split(X_scaled, y, test_size=0.2, random_state=42)"
   ]
  },
  {
   "cell_type": "code",
   "execution_count": null,
   "id": "997ab530",
   "metadata": {},
   "outputs": [],
   "source": [
    "# 텐서 변환\n",
    "X_train = torch.tensor(X_train, dtype=torch.float32)\n",
    "X_test = torch.tensor(X_test, dtype=torch.float32)\n",
    "y_train = torch.tensor(y_train, dtype=torch.long)\n",
    "y_test = torch.tensor(y_test, dtype=torch.long)"
   ]
  },
  {
   "cell_type": "code",
   "execution_count": null,
   "id": "af40ede4",
   "metadata": {},
   "outputs": [],
   "source": [
    "# 3-Layer 신경망 정의\n",
    "class Net(nn.Module):\n",
    "    def __init__(self):\n",
    "        super(Net, self).__init__()\n",
    "        self.fc1 = nn.Linear(3, 32)\n",
    "        self.relu1 = nn.ReLU()\n",
    "        self.fc2 = nn.Linear(32, 16)\n",
    "        self.relu2 = nn.ReLU()\n",
    "        self.fc3 = nn.Linear(16, 3)\n",
    "\n",
    "    def forward(self, x):\n",
    "        x = self.relu1(self.fc1(x))\n",
    "        x = self.relu2(self.fc2(x))\n",
    "        x = self.fc3(x)\n",
    "        return x\n",
    "\n",
    "model = Net()"
   ]
  },
  {
   "cell_type": "code",
   "execution_count": null,
   "id": "95e9e017",
   "metadata": {},
   "outputs": [],
   "source": [
    "# 손실 함수 및 옵티마이저 설정\n",
    "criterion = nn.CrossEntropyLoss()\n",
    "optimizer = optim.Adam(model.parameters(), lr=0.01)"
   ]
  },
  {
   "cell_type": "code",
   "execution_count": null,
   "id": "088dc99d",
   "metadata": {},
   "outputs": [],
   "source": [
    "# 학습 루프\n",
    "train_losses = []\n",
    "epochs = 50\n",
    "for epoch in range(epochs):\n",
    "    optimizer.zero_grad()\n",
    "    outputs = model(X_train)\n",
    "    loss = criterion(outputs, y_train)\n",
    "    loss.backward()\n",
    "    optimizer.step()\n",
    "    train_losses.append(loss.item())\n",
    "    if (epoch+1) % 10 == 0:\n",
    "        print(f\"Epoch {epoch+1}/{epochs}, Loss: {loss.item():.4f}\")"
   ]
  },
  {
   "cell_type": "code",
   "execution_count": null,
   "id": "309c01d5",
   "metadata": {},
   "outputs": [],
   "source": [
    "# 손실 시각화\n",
    "plt.plot(train_losses)\n",
    "plt.xlabel('Epoch')\n",
    "plt.ylabel('Loss')\n",
    "plt.title('Training Loss')\n",
    "plt.grid(True)\n",
    "plt.show()"
   ]
  },
  {
   "cell_type": "code",
   "execution_count": null,
   "id": "0363b529",
   "metadata": {},
   "outputs": [],
   "source": [
    "# 테스트 예측 및 평가\n",
    "with torch.no_grad():\n",
    "    y_pred = model(X_test)\n",
    "    y_pred_classes = torch.argmax(y_pred, dim=1)\n",
    "\n",
    "print(classification_report(y_test, y_pred_classes, target_names=le.classes_))"
   ]
  },
  {
   "cell_type": "markdown",
   "id": "293ecba2",
   "metadata": {},
   "source": [
    "## 📊 결과 해석\n",
    "\n",
    "- 위의 `classification_report` 출력 결과는 각 상(Phase)에 대해 **Precision, Recall, F1-score, Support**를 보여줍니다.\n",
    "\n",
    "### 주요 용어 설명\n",
    "- **Precision (정밀도)**: 예측한 것 중 실제로 맞춘 비율  \n",
    "- **Recall (재현율)**: 실제인 것 중 예측에 성공한 비율  \n",
    "- **F1-score**: Precision과 Recall의 조화 평균  \n",
    "- **Support**: 각 클래스에 속한 샘플 개수\n",
    "\n",
    "---\n",
    "\n",
    "### ✅ 예시 해석 (예시 값)\n",
    "\n",
    "| Phase | Precision | Recall | F1-score | Support |\n",
    "|-------|-----------|--------|----------|---------|\n",
    "| 고상  | 0.88      | 0.85   | 0.86     | 60      |\n",
    "| 액상  | 0.81      | 0.90   | 0.85     | 58      |\n",
    "| 다상  | 0.79      | 0.72   | 0.75     | 42      |\n",
    "\n",
    "- **고상**은 높은 Precision과 Recall을 모두 갖추어 예측이 안정적입니다.\n",
    "- **액상**은 Recall이 특히 높아서 실제 액상을 잘 맞추는 편입니다.\n",
    "- **다상**은 상대적으로 어려운 클래스이며 F1-score가 가장 낮을 수 있습니다.\n",
    "\n",
    "---\n",
    "\n",
    "### 📌 참고\n",
    "- `다상`처럼 복잡한 클래스는 더 많은 데이터나 모델 구조 개선을 통해 성능을 향상시킬 수 있습니다.\n",
    "- 학습 손실(Loss) 그래프와 함께 보면서 과적합 여부도 체크해보세요.\n"
   ]
  },
  {
   "cell_type": "markdown",
   "id": "10ef3991",
   "metadata": {},
   "source": [
    "## 🔍 예측 결과 시각화 및 모델 성능 비교\n",
    "\n",
    "이제 Confusion Matrix를 통해 예측 정확도를 시각적으로 확인할 수 있으며,  \n",
    "기존 머신러닝(RandomForestClassifier)과 현재의 인공신경망(NN) 결과를 나란히 비교할 수 있습니다.\n",
    "\n",
    "- Confusion Matrix는 모델이 어떤 클래스를 얼마나 잘 맞췄는지를 보여줍니다.\n",
    "- classification_report로 precision, recall, f1-score를 수치로 비교합니다.\n",
    "\n",
    "이 과정을 통해 모델별 강점과 약점을 파악하고, 어떤 방향으로 개선할지 아이디어를 얻을 수 있습니다.\n"
   ]
  },
  {
   "cell_type": "code",
   "execution_count": null,
   "id": "5834603c",
   "metadata": {},
   "outputs": [],
   "source": [
    "# Confusion Matrix 시각화\n",
    "from sklearn.metrics import confusion_matrix, ConfusionMatrixDisplay\n",
    "\n",
    "cm = confusion_matrix(y_test, y_pred_classes)\n",
    "disp = ConfusionMatrixDisplay(confusion_matrix=cm, display_labels=le.classes_)\n",
    "disp.plot(cmap=plt.cm.Blues)\n",
    "plt.title(\"Confusion Matrix (Neural Network)\")\n",
    "plt.show()\n"
   ]
  },
  {
   "cell_type": "code",
   "execution_count": null,
   "id": "30e3c92c",
   "metadata": {},
   "outputs": [],
   "source": [
    "# RandomForest 성능과 비교\n",
    "from sklearn.ensemble import RandomForestClassifier\n",
    "\n",
    "# 학습\n",
    "rf_model = RandomForestClassifier(random_state=42)\n",
    "rf_model.fit(X_train, y_train)\n",
    "rf_preds = rf_model.predict(X_test)\n",
    "\n",
    "# Confusion Matrix\n",
    "rf_cm = confusion_matrix(y_test, rf_preds)\n",
    "disp_rf = ConfusionMatrixDisplay(confusion_matrix=rf_cm, display_labels=le.classes_)\n",
    "disp_rf.plot(cmap=plt.cm.Oranges)\n",
    "plt.title(\"Confusion Matrix (Random Forest)\")\n",
    "plt.show()\n",
    "\n",
    "# 성능 비교 출력\n",
    "print(\"== Neural Network ==\")\n",
    "print(classification_report(y_test, y_pred_classes, target_names=le.classes_))\n",
    "print(\"== Random Forest ==\")\n",
    "print(classification_report(y_test, rf_preds, target_names=le.classes_))\n"
   ]
  }
 ],
 "metadata": {},
 "nbformat": 4,
 "nbformat_minor": 5
}
