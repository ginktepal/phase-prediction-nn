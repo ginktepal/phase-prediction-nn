{
 "cells": [
  {
   "cell_type": "markdown",
   "id": "d56a6100",
   "metadata": {},
   "source": [
    "# 3-Layer 인공신경망을 이용한 상변화 예측 실습\n",
    "이 노트북은 Ti-Al-V 조성 데이터를 이용하여 상변화(고상, 액상, 다상)를 예측하는 분류 모델을 PyTorch 기반 인공신경망으로 학습합니다."
   ]
  },
  {
   "cell_type": "code",
   "execution_count": null,
   "id": "42dc1fad",
   "metadata": {},
   "outputs": [],
   "source": [
    "# 기본 패키지 import\n",
    "import pandas as pd\n",
    "import numpy as np\n",
    "import torch\n",
    "import torch.nn as nn\n",
    "import torch.optim as optim\n",
    "from sklearn.model_selection import train_test_split\n",
    "from sklearn.preprocessing import LabelEncoder, StandardScaler\n",
    "from sklearn.metrics import classification_report\n",
    "import matplotlib.pyplot as plt"
   ]
  },
  {
   "cell_type": "code",
   "execution_count": null,
   "id": "401f3e3d",
   "metadata": {},
   "outputs": [],
   "source": [
    "# 데이터 로딩\n",
    "url = 'https://raw.githubusercontent.com/ginktepal/phase-prediction-ml/main/composition_phase_data.csv'\n",
    "df = pd.read_csv(url)\n",
    "df.head()"
   ]
  },
  {
   "cell_type": "code",
   "execution_count": null,
   "id": "5f4fcc90",
   "metadata": {},
   "outputs": [],
   "source": [
    "# 전처리\n",
    "X = df[['Ti', 'Al', 'V']].values\n",
    "y = df['Phase'].values\n",
    "\n",
    "# 라벨 인코딩\n",
    "le = LabelEncoder()\n",
    "y = le.fit_transform(y)\n",
    "\n",
    "# 스케일링\n",
    "scaler = StandardScaler()\n",
    "X_scaled = scaler.fit_transform(X)\n",
    "\n",
    "# 학습/검증 나누기\n",
    "X_train, X_test, y_train, y_test = train_test_split(X_scaled, y, test_size=0.2, random_state=42)"
   ]
  },
  {
   "cell_type": "code",
   "execution_count": null,
   "id": "997ab530",
   "metadata": {},
   "outputs": [],
   "source": [
    "# 텐서 변환\n",
    "X_train = torch.tensor(X_train, dtype=torch.float32)\n",
    "X_test = torch.tensor(X_test, dtype=torch.float32)\n",
    "y_train = torch.tensor(y_train, dtype=torch.long)\n",
    "y_test = torch.tensor(y_test, dtype=torch.long)"
   ]
  },
  {
   "cell_type": "code",
   "execution_count": null,
   "id": "af40ede4",
   "metadata": {},
   "outputs": [],
   "source": [
    "# 3-Layer 신경망 정의\n",
    "class Net(nn.Module):\n",
    "    def __init__(self):\n",
    "        super(Net, self).__init__()\n",
    "        self.fc1 = nn.Linear(3, 32)\n",
    "        self.relu1 = nn.ReLU()\n",
    "        self.fc2 = nn.Linear(32, 16)\n",
    "        self.relu2 = nn.ReLU()\n",
    "        self.fc3 = nn.Linear(16, 3)\n",
    "\n",
    "    def forward(self, x):\n",
    "        x = self.relu1(self.fc1(x))\n",
    "        x = self.relu2(self.fc2(x))\n",
    "        x = self.fc3(x)\n",
    "        return x\n",
    "\n",
    "model = Net()"
   ]
  },
  {
   "cell_type": "code",
   "execution_count": null,
   "id": "95e9e017",
   "metadata": {},
   "outputs": [],
   "source": [
    "# 손실 함수 및 옵티마이저 설정\n",
    "criterion = nn.CrossEntropyLoss()\n",
    "optimizer = optim.Adam(model.parameters(), lr=0.01)"
   ]
  },
  {
   "cell_type": "code",
   "execution_count": null,
   "id": "088dc99d",
   "metadata": {},
   "outputs": [],
   "source": [
    "# 학습 루프\n",
    "train_losses = []\n",
    "epochs = 50\n",
    "for epoch in range(epochs):\n",
    "    optimizer.zero_grad()\n",
    "    outputs = model(X_train)\n",
    "    loss = criterion(outputs, y_train)\n",
    "    loss.backward()\n",
    "    optimizer.step()\n",
    "    train_losses.append(loss.item())\n",
    "    if (epoch+1) % 10 == 0:\n",
    "        print(f\"Epoch {epoch+1}/{epochs}, Loss: {loss.item():.4f}\")"
   ]
  },
  {
   "cell_type": "code",
   "execution_count": null,
   "id": "309c01d5",
   "metadata": {},
   "outputs": [],
   "source": [
    "# 손실 시각화\n",
    "plt.plot(train_losses)\n",
    "plt.xlabel('Epoch')\n",
    "plt.ylabel('Loss')\n",
    "plt.title('Training Loss')\n",
    "plt.grid(True)\n",
    "plt.show()"
   ]
  },
  {
   "cell_type": "code",
   "execution_count": null,
   "id": "0363b529",
   "metadata": {},
   "outputs": [],
   "source": [
    "# 테스트 예측 및 평가\n",
    "with torch.no_grad():\n",
    "    y_pred = model(X_test)\n",
    "    y_pred_classes = torch.argmax(y_pred, dim=1)\n",
    "\n",
    "print(classification_report(y_test, y_pred_classes, target_names=le.classes_))"
   ]
  }
 ],
 "metadata": {},
 "nbformat": 4,
 "nbformat_minor": 5
}
